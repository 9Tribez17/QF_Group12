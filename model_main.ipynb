{
 "cells": [
  {
   "cell_type": "code",
   "execution_count": 189,
   "metadata": {},
   "outputs": [],
   "source": [
    "# !git clone https://github.com/9Tribez17/QF_Group12.git"
   ]
  },
  {
   "cell_type": "code",
   "execution_count": 1,
   "metadata": {},
   "outputs": [],
   "source": [
    "import pandas as pd\n",
    "import numpy as np\n",
    "\n",
    "from sklearn.feature_selection import SelectKBest, chi2, mutual_info_classif\n",
    "\n",
    "from sklearn.model_selection import train_test_split\n",
    "from sklearn.metrics import accuracy_score\n",
    "from sklearn.ensemble import RandomForestClassifier, GradientBoostingClassifier\n",
    "from sklearn.model_selection import train_test_split\n",
    "from sklearn.preprocessing import StandardScaler\n",
    "\n",
    "import torch\n",
    "import torch.nn as nn\n",
    "import torch.optim as optim\n",
    "\n",
    "import matplotlib.pyplot as plt\n",
    "import seaborn as sns\n",
    "\n",
    "from joblib import dump, load"
   ]
  },
  {
   "cell_type": "markdown",
   "metadata": {},
   "source": [
    "## Data Preprocess"
   ]
  },
  {
   "cell_type": "code",
   "execution_count": 2,
   "metadata": {},
   "outputs": [],
   "source": [
    "data = pd.read_csv('data/text_add_v3.csv')\n",
    "data_ori = pd.read_csv('data/clean_churn.csv')"
   ]
  },
  {
   "cell_type": "code",
   "execution_count": 3,
   "metadata": {},
   "outputs": [
    {
     "name": "stdout",
     "output_type": "stream",
     "text": [
      "True\n"
     ]
    }
   ],
   "source": [
    "# Check the objective column is in the data_feature\n",
    "print('Exited' in data.columns)"
   ]
  },
  {
   "cell_type": "code",
   "execution_count": 4,
   "metadata": {},
   "outputs": [
    {
     "data": {
      "text/html": [
       "<div>\n",
       "<style scoped>\n",
       "    .dataframe tbody tr th:only-of-type {\n",
       "        vertical-align: middle;\n",
       "    }\n",
       "\n",
       "    .dataframe tbody tr th {\n",
       "        vertical-align: top;\n",
       "    }\n",
       "\n",
       "    .dataframe thead th {\n",
       "        text-align: right;\n",
       "    }\n",
       "</style>\n",
       "<table border=\"1\" class=\"dataframe\">\n",
       "  <thead>\n",
       "    <tr style=\"text-align: right;\">\n",
       "      <th></th>\n",
       "      <th>CustomerId</th>\n",
       "      <th>Surname</th>\n",
       "      <th>CreditScore</th>\n",
       "      <th>Geography</th>\n",
       "      <th>Gender</th>\n",
       "      <th>Age</th>\n",
       "      <th>Tenure</th>\n",
       "      <th>Balance</th>\n",
       "      <th>NumOfProducts</th>\n",
       "      <th>HasCrCard</th>\n",
       "      <th>IsActiveMember</th>\n",
       "      <th>EstimatedSalary</th>\n",
       "      <th>Exited</th>\n",
       "      <th>original</th>\n",
       "    </tr>\n",
       "  </thead>\n",
       "  <tbody>\n",
       "    <tr>\n",
       "      <th>0</th>\n",
       "      <td>15674932</td>\n",
       "      <td>Okwudilichukwu</td>\n",
       "      <td>668</td>\n",
       "      <td>France</td>\n",
       "      <td>Male</td>\n",
       "      <td>33.0</td>\n",
       "      <td>3</td>\n",
       "      <td>0.00</td>\n",
       "      <td>2</td>\n",
       "      <td>1.0</td>\n",
       "      <td>0.0</td>\n",
       "      <td>181449.97</td>\n",
       "      <td>0.0</td>\n",
       "      <td>1</td>\n",
       "    </tr>\n",
       "    <tr>\n",
       "      <th>1</th>\n",
       "      <td>15749177</td>\n",
       "      <td>Okwudiliolisa</td>\n",
       "      <td>627</td>\n",
       "      <td>France</td>\n",
       "      <td>Male</td>\n",
       "      <td>33.0</td>\n",
       "      <td>1</td>\n",
       "      <td>0.00</td>\n",
       "      <td>2</td>\n",
       "      <td>1.0</td>\n",
       "      <td>1.0</td>\n",
       "      <td>49503.50</td>\n",
       "      <td>0.0</td>\n",
       "      <td>1</td>\n",
       "    </tr>\n",
       "    <tr>\n",
       "      <th>2</th>\n",
       "      <td>15694510</td>\n",
       "      <td>Hsueh</td>\n",
       "      <td>678</td>\n",
       "      <td>France</td>\n",
       "      <td>Male</td>\n",
       "      <td>40.0</td>\n",
       "      <td>10</td>\n",
       "      <td>0.00</td>\n",
       "      <td>2</td>\n",
       "      <td>1.0</td>\n",
       "      <td>0.0</td>\n",
       "      <td>184866.69</td>\n",
       "      <td>0.0</td>\n",
       "      <td>1</td>\n",
       "    </tr>\n",
       "    <tr>\n",
       "      <th>3</th>\n",
       "      <td>15741417</td>\n",
       "      <td>Kao</td>\n",
       "      <td>581</td>\n",
       "      <td>France</td>\n",
       "      <td>Male</td>\n",
       "      <td>34.0</td>\n",
       "      <td>2</td>\n",
       "      <td>148882.54</td>\n",
       "      <td>1</td>\n",
       "      <td>1.0</td>\n",
       "      <td>1.0</td>\n",
       "      <td>84560.88</td>\n",
       "      <td>0.0</td>\n",
       "      <td>1</td>\n",
       "    </tr>\n",
       "    <tr>\n",
       "      <th>4</th>\n",
       "      <td>15766172</td>\n",
       "      <td>Chiemenam</td>\n",
       "      <td>716</td>\n",
       "      <td>Spain</td>\n",
       "      <td>Male</td>\n",
       "      <td>33.0</td>\n",
       "      <td>5</td>\n",
       "      <td>0.00</td>\n",
       "      <td>2</td>\n",
       "      <td>1.0</td>\n",
       "      <td>1.0</td>\n",
       "      <td>15068.83</td>\n",
       "      <td>0.0</td>\n",
       "      <td>1</td>\n",
       "    </tr>\n",
       "  </tbody>\n",
       "</table>\n",
       "</div>"
      ],
      "text/plain": [
       "   CustomerId         Surname  CreditScore Geography Gender   Age  Tenure  \\\n",
       "0    15674932  Okwudilichukwu          668    France   Male  33.0       3   \n",
       "1    15749177   Okwudiliolisa          627    France   Male  33.0       1   \n",
       "2    15694510           Hsueh          678    France   Male  40.0      10   \n",
       "3    15741417             Kao          581    France   Male  34.0       2   \n",
       "4    15766172       Chiemenam          716     Spain   Male  33.0       5   \n",
       "\n",
       "     Balance  NumOfProducts  HasCrCard  IsActiveMember  EstimatedSalary  \\\n",
       "0       0.00              2        1.0             0.0        181449.97   \n",
       "1       0.00              2        1.0             1.0         49503.50   \n",
       "2       0.00              2        1.0             0.0        184866.69   \n",
       "3  148882.54              1        1.0             1.0         84560.88   \n",
       "4       0.00              2        1.0             1.0         15068.83   \n",
       "\n",
       "   Exited  original  \n",
       "0     0.0         1  \n",
       "1     0.0         1  \n",
       "2     0.0         1  \n",
       "3     0.0         1  \n",
       "4     0.0         1  "
      ]
     },
     "execution_count": 4,
     "metadata": {},
     "output_type": "execute_result"
    }
   ],
   "source": [
    "data_ori.head()"
   ]
  },
  {
   "cell_type": "code",
   "execution_count": 5,
   "metadata": {},
   "outputs": [
    {
     "data": {
      "text/html": [
       "<div>\n",
       "<style scoped>\n",
       "    .dataframe tbody tr th:only-of-type {\n",
       "        vertical-align: middle;\n",
       "    }\n",
       "\n",
       "    .dataframe tbody tr th {\n",
       "        vertical-align: top;\n",
       "    }\n",
       "\n",
       "    .dataframe thead th {\n",
       "        text-align: right;\n",
       "    }\n",
       "</style>\n",
       "<table border=\"1\" class=\"dataframe\">\n",
       "  <thead>\n",
       "    <tr style=\"text-align: right;\">\n",
       "      <th></th>\n",
       "      <th>CustomerId</th>\n",
       "      <th>CreditScore</th>\n",
       "      <th>Age</th>\n",
       "      <th>Tenure</th>\n",
       "      <th>Balance</th>\n",
       "      <th>NumOfProducts</th>\n",
       "      <th>HasCrCard</th>\n",
       "      <th>IsActiveMember</th>\n",
       "      <th>EstimatedSalary</th>\n",
       "      <th>Exited</th>\n",
       "      <th>...</th>\n",
       "      <th>Balance_NumOfProducts_difference</th>\n",
       "      <th>EstimatedSalary_NumOfProducts_difference</th>\n",
       "      <th>CreditScore_NumOfProducts_difference</th>\n",
       "      <th>CustomerId_NumOfProducts_difference</th>\n",
       "      <th>Age_CustomerId_difference</th>\n",
       "      <th>Tenure_CustomerId_difference</th>\n",
       "      <th>Balance_CustomerId_difference</th>\n",
       "      <th>NumOfProducts_CustomerId_difference</th>\n",
       "      <th>CreditScore_CustomerId_difference</th>\n",
       "      <th>EstimatedSalary_CustomerId_difference</th>\n",
       "    </tr>\n",
       "  </thead>\n",
       "  <tbody>\n",
       "    <tr>\n",
       "      <th>0</th>\n",
       "      <td>15674932</td>\n",
       "      <td>0.636</td>\n",
       "      <td>0.202703</td>\n",
       "      <td>0.3</td>\n",
       "      <td>0.000000</td>\n",
       "      <td>0.333333</td>\n",
       "      <td>1</td>\n",
       "      <td>0</td>\n",
       "      <td>0.907279</td>\n",
       "      <td>0</td>\n",
       "      <td>...</td>\n",
       "      <td>-0.333333</td>\n",
       "      <td>0.573945</td>\n",
       "      <td>0.302667</td>\n",
       "      <td>1.567493e+07</td>\n",
       "      <td>-1.567493e+07</td>\n",
       "      <td>-15674931.7</td>\n",
       "      <td>-1.567493e+07</td>\n",
       "      <td>-1.567493e+07</td>\n",
       "      <td>-1.567493e+07</td>\n",
       "      <td>-1.567493e+07</td>\n",
       "    </tr>\n",
       "    <tr>\n",
       "      <th>1</th>\n",
       "      <td>15749177</td>\n",
       "      <td>0.554</td>\n",
       "      <td>0.202703</td>\n",
       "      <td>0.1</td>\n",
       "      <td>0.000000</td>\n",
       "      <td>0.333333</td>\n",
       "      <td>1</td>\n",
       "      <td>1</td>\n",
       "      <td>0.247483</td>\n",
       "      <td>0</td>\n",
       "      <td>...</td>\n",
       "      <td>-0.333333</td>\n",
       "      <td>-0.085850</td>\n",
       "      <td>0.220667</td>\n",
       "      <td>1.574918e+07</td>\n",
       "      <td>-1.574918e+07</td>\n",
       "      <td>-15749176.9</td>\n",
       "      <td>-1.574918e+07</td>\n",
       "      <td>-1.574918e+07</td>\n",
       "      <td>-1.574918e+07</td>\n",
       "      <td>-1.574918e+07</td>\n",
       "    </tr>\n",
       "    <tr>\n",
       "      <th>2</th>\n",
       "      <td>15694510</td>\n",
       "      <td>0.656</td>\n",
       "      <td>0.297297</td>\n",
       "      <td>1.0</td>\n",
       "      <td>0.000000</td>\n",
       "      <td>0.333333</td>\n",
       "      <td>1</td>\n",
       "      <td>0</td>\n",
       "      <td>0.924364</td>\n",
       "      <td>0</td>\n",
       "      <td>...</td>\n",
       "      <td>-0.333333</td>\n",
       "      <td>0.591030</td>\n",
       "      <td>0.322667</td>\n",
       "      <td>1.569451e+07</td>\n",
       "      <td>-1.569451e+07</td>\n",
       "      <td>-15694509.0</td>\n",
       "      <td>-1.569451e+07</td>\n",
       "      <td>-1.569451e+07</td>\n",
       "      <td>-1.569451e+07</td>\n",
       "      <td>-1.569451e+07</td>\n",
       "    </tr>\n",
       "    <tr>\n",
       "      <th>3</th>\n",
       "      <td>15741417</td>\n",
       "      <td>0.462</td>\n",
       "      <td>0.216216</td>\n",
       "      <td>0.2</td>\n",
       "      <td>0.593398</td>\n",
       "      <td>0.000000</td>\n",
       "      <td>1</td>\n",
       "      <td>1</td>\n",
       "      <td>0.422787</td>\n",
       "      <td>0</td>\n",
       "      <td>...</td>\n",
       "      <td>0.593398</td>\n",
       "      <td>0.422787</td>\n",
       "      <td>0.462000</td>\n",
       "      <td>1.574142e+07</td>\n",
       "      <td>-1.574142e+07</td>\n",
       "      <td>-15741416.8</td>\n",
       "      <td>-1.574142e+07</td>\n",
       "      <td>-1.574142e+07</td>\n",
       "      <td>-1.574142e+07</td>\n",
       "      <td>-1.574142e+07</td>\n",
       "    </tr>\n",
       "    <tr>\n",
       "      <th>4</th>\n",
       "      <td>15766172</td>\n",
       "      <td>0.732</td>\n",
       "      <td>0.202703</td>\n",
       "      <td>0.5</td>\n",
       "      <td>0.000000</td>\n",
       "      <td>0.333333</td>\n",
       "      <td>1</td>\n",
       "      <td>1</td>\n",
       "      <td>0.075293</td>\n",
       "      <td>0</td>\n",
       "      <td>...</td>\n",
       "      <td>-0.333333</td>\n",
       "      <td>-0.258040</td>\n",
       "      <td>0.398667</td>\n",
       "      <td>1.576617e+07</td>\n",
       "      <td>-1.576617e+07</td>\n",
       "      <td>-15766171.5</td>\n",
       "      <td>-1.576617e+07</td>\n",
       "      <td>-1.576617e+07</td>\n",
       "      <td>-1.576617e+07</td>\n",
       "      <td>-1.576617e+07</td>\n",
       "    </tr>\n",
       "  </tbody>\n",
       "</table>\n",
       "<p>5 rows × 109 columns</p>\n",
       "</div>"
      ],
      "text/plain": [
       "   CustomerId  CreditScore       Age  Tenure   Balance  NumOfProducts  \\\n",
       "0    15674932        0.636  0.202703     0.3  0.000000       0.333333   \n",
       "1    15749177        0.554  0.202703     0.1  0.000000       0.333333   \n",
       "2    15694510        0.656  0.297297     1.0  0.000000       0.333333   \n",
       "3    15741417        0.462  0.216216     0.2  0.593398       0.000000   \n",
       "4    15766172        0.732  0.202703     0.5  0.000000       0.333333   \n",
       "\n",
       "   HasCrCard  IsActiveMember  EstimatedSalary  Exited  ...  \\\n",
       "0          1               0         0.907279       0  ...   \n",
       "1          1               1         0.247483       0  ...   \n",
       "2          1               0         0.924364       0  ...   \n",
       "3          1               1         0.422787       0  ...   \n",
       "4          1               1         0.075293       0  ...   \n",
       "\n",
       "   Balance_NumOfProducts_difference  EstimatedSalary_NumOfProducts_difference  \\\n",
       "0                         -0.333333                                  0.573945   \n",
       "1                         -0.333333                                 -0.085850   \n",
       "2                         -0.333333                                  0.591030   \n",
       "3                          0.593398                                  0.422787   \n",
       "4                         -0.333333                                 -0.258040   \n",
       "\n",
       "   CreditScore_NumOfProducts_difference  CustomerId_NumOfProducts_difference  \\\n",
       "0                              0.302667                         1.567493e+07   \n",
       "1                              0.220667                         1.574918e+07   \n",
       "2                              0.322667                         1.569451e+07   \n",
       "3                              0.462000                         1.574142e+07   \n",
       "4                              0.398667                         1.576617e+07   \n",
       "\n",
       "   Age_CustomerId_difference  Tenure_CustomerId_difference  \\\n",
       "0              -1.567493e+07                   -15674931.7   \n",
       "1              -1.574918e+07                   -15749176.9   \n",
       "2              -1.569451e+07                   -15694509.0   \n",
       "3              -1.574142e+07                   -15741416.8   \n",
       "4              -1.576617e+07                   -15766171.5   \n",
       "\n",
       "   Balance_CustomerId_difference  NumOfProducts_CustomerId_difference  \\\n",
       "0                  -1.567493e+07                        -1.567493e+07   \n",
       "1                  -1.574918e+07                        -1.574918e+07   \n",
       "2                  -1.569451e+07                        -1.569451e+07   \n",
       "3                  -1.574142e+07                        -1.574142e+07   \n",
       "4                  -1.576617e+07                        -1.576617e+07   \n",
       "\n",
       "   CreditScore_CustomerId_difference  EstimatedSalary_CustomerId_difference  \n",
       "0                      -1.567493e+07                          -1.567493e+07  \n",
       "1                      -1.574918e+07                          -1.574918e+07  \n",
       "2                      -1.569451e+07                          -1.569451e+07  \n",
       "3                      -1.574142e+07                          -1.574142e+07  \n",
       "4                      -1.576617e+07                          -1.576617e+07  \n",
       "\n",
       "[5 rows x 109 columns]"
      ]
     },
     "execution_count": 5,
     "metadata": {},
     "output_type": "execute_result"
    }
   ],
   "source": [
    "data.head()"
   ]
  },
  {
   "cell_type": "code",
   "execution_count": 6,
   "metadata": {},
   "outputs": [
    {
     "name": "stdout",
     "output_type": "stream",
     "text": [
      "CustomerId                               0\n",
      "CreditScore                              0\n",
      "Age                                      0\n",
      "Tenure                                   0\n",
      "Balance                                  0\n",
      "                                        ..\n",
      "Tenure_CustomerId_difference             0\n",
      "Balance_CustomerId_difference            0\n",
      "NumOfProducts_CustomerId_difference      0\n",
      "CreditScore_CustomerId_difference        0\n",
      "EstimatedSalary_CustomerId_difference    0\n",
      "Length: 109, dtype: int64\n"
     ]
    }
   ],
   "source": [
    "# Check whether there is nan value\n",
    "\n",
    "nan_counts = data.isna().sum()\n",
    "print(nan_counts)\n",
    "\n",
    "# nan_counts = data_ori.isna().sum()\n",
    "# print(nan_counts)"
   ]
  },
  {
   "cell_type": "code",
   "execution_count": 7,
   "metadata": {},
   "outputs": [
    {
     "data": {
      "text/plain": [
       "[]"
      ]
     },
     "execution_count": 7,
     "metadata": {},
     "output_type": "execute_result"
    }
   ],
   "source": [
    "x = data.drop('Exited', axis=1)\n",
    "y = data['Exited']\n",
    "X_train, X_test, y_train, y_test = train_test_split(x, y, test_size=0.2, random_state=42)\n",
    "data_train = pd.concat([X_train, y_train], axis=1)\n",
    "data_test = pd.concat([X_test, y_test], axis=1)\n",
    "\n",
    "# Check the nan value again\n",
    "data_train.columns[data_train.isna().any()].tolist()"
   ]
  },
  {
   "cell_type": "markdown",
   "metadata": {},
   "source": [
    "## Feature selection"
   ]
  },
  {
   "cell_type": "markdown",
   "metadata": {},
   "source": [
    "### Univariate statistical tests"
   ]
  },
  {
   "cell_type": "code",
   "execution_count": 8,
   "metadata": {},
   "outputs": [],
   "source": [
    "def importance_test(data):\n",
    "    # Chi-squared test\n",
    "    chi_test_columns = ['MaleGender_OHE', 'FranceGeography_OHE', 'SpainGeography_OHE']\n",
    "    x = data[chi_test_columns]\n",
    "    y = data['Exited']\n",
    "    chi_scores = chi2(x, y)\n",
    "    chi_scores_df = pd.DataFrame({'Feature': chi_test_columns, 'Chi2 Score': chi_scores[0], 'P-value': chi_scores[1]})\n",
    "\n",
    "    # Mutual Information test\n",
    "    x = data.drop(['CustomerId', 'Exited'], axis=1)\n",
    "    mul_scores = mutual_info_classif(x, y)\n",
    "    mul_scores_df = pd.DataFrame({'Feature': x.columns, 'Mul Score': mul_scores})\n",
    "    return chi_scores_df, mul_scores_df"
   ]
  },
  {
   "cell_type": "code",
   "execution_count": 9,
   "metadata": {},
   "outputs": [],
   "source": [
    "chi_scores_df, mul_scores_df = importance_test(data_train)"
   ]
  },
  {
   "cell_type": "code",
   "execution_count": 10,
   "metadata": {},
   "outputs": [
    {
     "data": {
      "text/html": [
       "<div>\n",
       "<style scoped>\n",
       "    .dataframe tbody tr th:only-of-type {\n",
       "        vertical-align: middle;\n",
       "    }\n",
       "\n",
       "    .dataframe tbody tr th {\n",
       "        vertical-align: top;\n",
       "    }\n",
       "\n",
       "    .dataframe thead th {\n",
       "        text-align: right;\n",
       "    }\n",
       "</style>\n",
       "<table border=\"1\" class=\"dataframe\">\n",
       "  <thead>\n",
       "    <tr style=\"text-align: right;\">\n",
       "      <th></th>\n",
       "      <th>Feature</th>\n",
       "      <th>Chi2 Score</th>\n",
       "      <th>P-value</th>\n",
       "    </tr>\n",
       "  </thead>\n",
       "  <tbody>\n",
       "    <tr>\n",
       "      <th>0</th>\n",
       "      <td>MaleGender_OHE</td>\n",
       "      <td>1245.201466</td>\n",
       "      <td>9.160292e-273</td>\n",
       "    </tr>\n",
       "    <tr>\n",
       "      <th>1</th>\n",
       "      <td>FranceGeography_OHE</td>\n",
       "      <td>991.739375</td>\n",
       "      <td>1.121593e-217</td>\n",
       "    </tr>\n",
       "    <tr>\n",
       "      <th>2</th>\n",
       "      <td>SpainGeography_OHE</td>\n",
       "      <td>279.792329</td>\n",
       "      <td>8.333958e-63</td>\n",
       "    </tr>\n",
       "  </tbody>\n",
       "</table>\n",
       "</div>"
      ],
      "text/plain": [
       "               Feature   Chi2 Score        P-value\n",
       "0       MaleGender_OHE  1245.201466  9.160292e-273\n",
       "1  FranceGeography_OHE   991.739375  1.121593e-217\n",
       "2   SpainGeography_OHE   279.792329   8.333958e-63"
      ]
     },
     "execution_count": 10,
     "metadata": {},
     "output_type": "execute_result"
    }
   ],
   "source": [
    "chi_scores_df"
   ]
  },
  {
   "cell_type": "code",
   "execution_count": 11,
   "metadata": {},
   "outputs": [
    {
     "data": {
      "text/html": [
       "<div>\n",
       "<style scoped>\n",
       "    .dataframe tbody tr th:only-of-type {\n",
       "        vertical-align: middle;\n",
       "    }\n",
       "\n",
       "    .dataframe tbody tr th {\n",
       "        vertical-align: top;\n",
       "    }\n",
       "\n",
       "    .dataframe thead th {\n",
       "        text-align: right;\n",
       "    }\n",
       "</style>\n",
       "<table border=\"1\" class=\"dataframe\">\n",
       "  <thead>\n",
       "    <tr style=\"text-align: right;\">\n",
       "      <th></th>\n",
       "      <th>Feature</th>\n",
       "      <th>Mul Score</th>\n",
       "    </tr>\n",
       "  </thead>\n",
       "  <tbody>\n",
       "    <tr>\n",
       "      <th>0</th>\n",
       "      <td>CreditScore</td>\n",
       "      <td>0.004145</td>\n",
       "    </tr>\n",
       "    <tr>\n",
       "      <th>1</th>\n",
       "      <td>Age</td>\n",
       "      <td>0.083362</td>\n",
       "    </tr>\n",
       "    <tr>\n",
       "      <th>2</th>\n",
       "      <td>Tenure</td>\n",
       "      <td>0.002793</td>\n",
       "    </tr>\n",
       "    <tr>\n",
       "      <th>3</th>\n",
       "      <td>Balance</td>\n",
       "      <td>0.014386</td>\n",
       "    </tr>\n",
       "    <tr>\n",
       "      <th>4</th>\n",
       "      <td>NumOfProducts</td>\n",
       "      <td>0.097260</td>\n",
       "    </tr>\n",
       "    <tr>\n",
       "      <th>...</th>\n",
       "      <td>...</td>\n",
       "      <td>...</td>\n",
       "    </tr>\n",
       "    <tr>\n",
       "      <th>102</th>\n",
       "      <td>Tenure_CustomerId_difference</td>\n",
       "      <td>0.003223</td>\n",
       "    </tr>\n",
       "    <tr>\n",
       "      <th>103</th>\n",
       "      <td>Balance_CustomerId_difference</td>\n",
       "      <td>0.006938</td>\n",
       "    </tr>\n",
       "    <tr>\n",
       "      <th>104</th>\n",
       "      <td>NumOfProducts_CustomerId_difference</td>\n",
       "      <td>0.048189</td>\n",
       "    </tr>\n",
       "    <tr>\n",
       "      <th>105</th>\n",
       "      <td>CreditScore_CustomerId_difference</td>\n",
       "      <td>0.003485</td>\n",
       "    </tr>\n",
       "    <tr>\n",
       "      <th>106</th>\n",
       "      <td>EstimatedSalary_CustomerId_difference</td>\n",
       "      <td>0.004528</td>\n",
       "    </tr>\n",
       "  </tbody>\n",
       "</table>\n",
       "<p>107 rows × 2 columns</p>\n",
       "</div>"
      ],
      "text/plain": [
       "                                   Feature  Mul Score\n",
       "0                              CreditScore   0.004145\n",
       "1                                      Age   0.083362\n",
       "2                                   Tenure   0.002793\n",
       "3                                  Balance   0.014386\n",
       "4                            NumOfProducts   0.097260\n",
       "..                                     ...        ...\n",
       "102           Tenure_CustomerId_difference   0.003223\n",
       "103          Balance_CustomerId_difference   0.006938\n",
       "104    NumOfProducts_CustomerId_difference   0.048189\n",
       "105      CreditScore_CustomerId_difference   0.003485\n",
       "106  EstimatedSalary_CustomerId_difference   0.004528\n",
       "\n",
       "[107 rows x 2 columns]"
      ]
     },
     "execution_count": 11,
     "metadata": {},
     "output_type": "execute_result"
    }
   ],
   "source": [
    "mul_scores_df"
   ]
  },
  {
   "cell_type": "markdown",
   "metadata": {},
   "source": [
    "### Correlation check"
   ]
  },
  {
   "cell_type": "code",
   "execution_count": 12,
   "metadata": {},
   "outputs": [],
   "source": [
    "def correlation_test(data_):\n",
    "    data = data_.copy()\n",
    "    drop_columns = ['CustomerId', 'Exited']\n",
    "    data = data.drop(drop_columns, axis=1)\n",
    "    data_corr = data.corr()\n",
    "    return data_corr\n",
    "    "
   ]
  },
  {
   "cell_type": "code",
   "execution_count": 13,
   "metadata": {},
   "outputs": [],
   "source": [
    "data_corr = correlation_test(data_train)"
   ]
  },
  {
   "cell_type": "markdown",
   "metadata": {},
   "source": [
    "### Selection"
   ]
  },
  {
   "cell_type": "code",
   "execution_count": 14,
   "metadata": {},
   "outputs": [
    {
     "name": "stdout",
     "output_type": "stream",
     "text": [
      "Selected features: ['Mean_Age_NumOfProducts', 'Age_NumOfProducts_difference', 'Balance_NumOfProducts_difference', 'Mean_NumOfProducts_Balance', 'NumOfProducts']\n"
     ]
    }
   ],
   "source": [
    "correlation_threshold = 0.9\n",
    "num_feature_selected = 5\n",
    "\n",
    "sorted_features = mul_scores_df.sort_values(by='Mul Score', ascending=False)['Feature']\n",
    "\n",
    "selected_features = []\n",
    "\n",
    "for feature in sorted_features:\n",
    "    if len(selected_features) >= num_feature_selected:\n",
    "        break\n",
    "    \n",
    "    if selected_features:\n",
    "        correlations = data_corr.loc[feature, selected_features].abs()\n",
    "        if all(correlations < correlation_threshold):\n",
    "            selected_features.append(feature)\n",
    "    else:\n",
    "        selected_features.append(feature)\n",
    "\n",
    "print(\"Selected features:\", selected_features)\n"
   ]
  },
  {
   "cell_type": "code",
   "execution_count": 15,
   "metadata": {},
   "outputs": [
    {
     "data": {
      "text/plain": [
       "['Mean_Age_NumOfProducts',\n",
       " 'Age_NumOfProducts_difference',\n",
       " 'Balance_NumOfProducts_difference',\n",
       " 'Mean_NumOfProducts_Balance',\n",
       " 'NumOfProducts',\n",
       " 'CreditScore',\n",
       " 'Balance',\n",
       " 'EstimatedSalary',\n",
       " 'Age',\n",
       " 'pca_0']"
      ]
     },
     "execution_count": 15,
     "metadata": {},
     "output_type": "execute_result"
    }
   ],
   "source": [
    "selected_features_models = ['CreditScore', 'Balance', 'EstimatedSalary', 'Age', 'pca_0']\n",
    "selected_features = selected_features + selected_features_models\n",
    "selected_features"
   ]
  },
  {
   "cell_type": "markdown",
   "metadata": {},
   "source": [
    "## Load the features"
   ]
  },
  {
   "cell_type": "code",
   "execution_count": 18,
   "metadata": {},
   "outputs": [],
   "source": [
    "X_train = data_train[selected_features]\n",
    "y_train = data_train['Exited']\n",
    "\n",
    "X_test = data_test[selected_features]\n",
    "y_test = data_test['Exited']\n",
    "\n",
    "scaler = StandardScaler()\n",
    "X_train = scaler.fit_transform(X_train)\n",
    "X_test = scaler.transform(X_test)"
   ]
  },
  {
   "cell_type": "code",
   "execution_count": 19,
   "metadata": {},
   "outputs": [],
   "source": [
    "def randomforest_method(X_train, X_test, y_train, y_test):\n",
    "    \"\"\"\n",
    "    Use random forest method to fit the model.\n",
    "    \"\"\"\n",
    "    rf = RandomForestClassifier(n_estimators=100, max_depth=10, min_samples_split=2, min_samples_leaf=1)\n",
    "\n",
    "    # train\n",
    "    rf.fit(X_train, y_train)\n",
    "\n",
    "    # predict\n",
    "    predictions = rf.predict(X_test)\n",
    "\n",
    "    # Evaluate the model\n",
    "    print(\"Accuracy:\", accuracy_score(y_test, predictions))\n",
    "    mask_zero = y_test == 0\n",
    "    accuracy_zero = accuracy_score(y_test[mask_zero], predictions[np.array(mask_zero).flatten()])\n",
    "    print('Accuracy when Exited = 0: ', accuracy_zero)\n",
    "\n",
    "    mask_one = y_test == 1\n",
    "    accuracy_one = accuracy_score(y_test[mask_one], predictions[np.array(mask_one).flatten()])\n",
    "    print('Accuracy when Exited = 1: ', accuracy_one)\n",
    "\n",
    "    model_result = pd.DataFrame({'test_true': y_test, 'test_predict': predictions})\n",
    "\n",
    "    dump(rf, 'random_forest_model.joblib')\n",
    "\n",
    "    return model_result, accuracy_zero, accuracy_one"
   ]
  },
  {
   "cell_type": "code",
   "execution_count": 20,
   "metadata": {},
   "outputs": [
    {
     "name": "stdout",
     "output_type": "stream",
     "text": [
      "Accuracy: 0.8450309938012398\n",
      "Accuracy when Exited = 0:  0.9416733125498441\n",
      "Accuracy when Exited = 1:  0.48578358711763914\n"
     ]
    }
   ],
   "source": [
    "rf_result, rf_accuracy_zero, rf_accuracy_one = randomforest_method(X_train, X_test, y_train, y_test)"
   ]
  },
  {
   "cell_type": "code",
   "execution_count": 21,
   "metadata": {},
   "outputs": [],
   "source": [
    "def gradientboosting_method(X_train, X_test, y_train, y_test):\n",
    "    \"\"\"\n",
    "    Use random forest method to fit the model.\n",
    "    \"\"\"\n",
    "    gb = GradientBoostingClassifier(n_estimators=100, max_depth=10, min_samples_split=2, min_samples_leaf=1)\n",
    "\n",
    "    # train\n",
    "    gb.fit(X_train, y_train)\n",
    "\n",
    "    # predict\n",
    "    predictions = gb.predict(X_test)\n",
    "\n",
    "    # Evaluate the model\n",
    "    print(\"Accuracy:\", accuracy_score(y_test, predictions))\n",
    "    mask_zero = y_test == 0\n",
    "    accuracy_zero = accuracy_score(y_test[mask_zero], predictions[np.array(mask_zero).flatten()])\n",
    "    print('Accuracy when Exited = 0: ', accuracy_zero)\n",
    "\n",
    "    mask_one = y_test == 1\n",
    "    accuracy_one = accuracy_score(y_test[mask_one], predictions[np.array(mask_one).flatten()])\n",
    "    print('Accuracy when Exited = 1: ', accuracy_one)\n",
    "\n",
    "    model_result = pd.DataFrame({'test_true': y_test, 'test_predict': predictions})\n",
    "\n",
    "    dump(gb, 'gradient_boosting_model.joblib')\n",
    "\n",
    "    return model_result, accuracy_zero, accuracy_one"
   ]
  },
  {
   "cell_type": "code",
   "execution_count": 22,
   "metadata": {},
   "outputs": [
    {
     "name": "stdout",
     "output_type": "stream",
     "text": [
      "Accuracy: 0.8439169308995343\n",
      "Accuracy when Exited = 0:  0.9392082940622055\n",
      "Accuracy when Exited = 1:  0.48969141625117907\n"
     ]
    }
   ],
   "source": [
    "gb_result, gb_accuracy_zero, gb_accuracy_one = gradientboosting_method(X_train, X_test, y_train, y_test)"
   ]
  },
  {
   "cell_type": "code",
   "execution_count": 23,
   "metadata": {},
   "outputs": [],
   "source": [
    "class SimpleBinaryClassifier(nn.Module):\n",
    "    def __init__(self, input_dim):\n",
    "        super(SimpleBinaryClassifier, self).__init__()\n",
    "        self.fc1 = nn.Linear(input_dim, 2*input_dim)  # first hidden layer\n",
    "        self.fc2 = nn.Linear(2*input_dim, input_dim)\n",
    "        self.fc3 = nn.Linear(input_dim, 1)          # output layer\n",
    "\n",
    "    def forward(self, x):\n",
    "        x = (self.fc1(x))\n",
    "        x = (self.fc2(x))\n",
    "        x = torch.sigmoid(self.fc3(x))\n",
    "        return x\n",
    "\n",
    "def neural_network_method(X_train, X_test, y_train, y_test):\n",
    "    X_train = torch.tensor(np.array(X_train), dtype=torch.float32)\n",
    "    y_train = torch.tensor(np.array(y_train), dtype=torch.float32).view(-1, 1)\n",
    "    X_test = torch.tensor(np.array(X_test), dtype=torch.float32)\n",
    "    y_test = torch.tensor(np.array(y_test), dtype=torch.float32).view(-1, 1)\n",
    "    \n",
    "    model = SimpleBinaryClassifier(X_train.shape[1])\n",
    "    \n",
    "    # loss function\n",
    "    criterion = nn.BCELoss()\n",
    "\n",
    "    # optimizer\n",
    "    optimizer = optim.Adam(model.parameters(), lr=0.01)\n",
    "\n",
    "    # fit\n",
    "    model.train()\n",
    "    for epoch in range(100): \n",
    "        optimizer.zero_grad()\n",
    "        outputs = model(X_train)\n",
    "        loss = criterion(outputs, y_train)\n",
    "        loss.backward()\n",
    "        optimizer.step()\n",
    "    \n",
    "    # evaluate\n",
    "    model.eval()\n",
    "    with torch.no_grad():\n",
    "        outputs = model(X_test)\n",
    "        predictions = (outputs > 0.5).float()\n",
    "        \n",
    "        accuracy = (predictions.eq(y_test).sum().item()) / y_test.size(0)\n",
    "        # Calculate the accuracy when Exited = 0\n",
    "        mask_zero = (y_test == 0)\n",
    "        correct_zero = (predictions[mask_zero] == y_test[mask_zero]).float().sum().item()\n",
    "        accuracy_zero = correct_zero / mask_zero.sum().item()\n",
    "        print('Accuracy when Exited = 0: ', accuracy_zero)\n",
    "\n",
    "        # Calculate the accuracy when Exited = 1\n",
    "        mask_one = (y_test == 1)\n",
    "        correct_one = (predictions[mask_one] == y_test[mask_one]).float().sum().item()\n",
    "        accuracy_one = correct_one / mask_one.sum().item()\n",
    "        print('Accuracy when Exited = 1: ', accuracy_one)\n",
    "        \n",
    "        loss = criterion(outputs, y_test)\n",
    "    \n",
    "    print(f\"Test Loss: {loss.item()}, Test Accuracy: {accuracy}\")\n",
    "\n",
    "    predictions = predictions.cpu().numpy()\n",
    "    y_test = y_test.cpu().numpy()\n",
    "\n",
    "    model_result = pd.DataFrame({'test_true': y_test.flatten(), 'test_predict': predictions.flatten()})\n",
    "\n",
    "    torch.save(model.state_dict(), 'neural_network_model.pth')\n",
    "\n",
    "    return model_result, accuracy_zero, accuracy_one\n"
   ]
  },
  {
   "cell_type": "code",
   "execution_count": 24,
   "metadata": {},
   "outputs": [
    {
     "name": "stdout",
     "output_type": "stream",
     "text": [
      "Accuracy when Exited = 0:  0.9576234321757413\n",
      "Accuracy when Exited = 1:  0.20064681309796523\n",
      "Test Loss: 0.4458499550819397, Test Accuracy: 0.797154854743337\n"
     ]
    }
   ],
   "source": [
    "nn_result, nn_accuracy_zero, nn_accuracy_one = neural_network_method(X_train, X_test, y_train, y_test)"
   ]
  },
  {
   "cell_type": "markdown",
   "metadata": {},
   "source": [
    "## Plot figure"
   ]
  },
  {
   "cell_type": "code",
   "execution_count": 25,
   "metadata": {},
   "outputs": [],
   "source": [
    "def plotting(accuracy_zero, accuracy_one, name):\n",
    "    bars = plt.bar(['Not Exited (0)', 'Exited (1)'], [accuracy_zero, accuracy_one], width=0.4, color=['skyblue', 'salmon'], align='center')\n",
    "    plt.title(name + ': Accuracy of Prediction about Exited Customers')\n",
    "    plt.xlabel('Exited')\n",
    "    plt.ylabel('accuracy')\n",
    "    plt.text(bars[0].get_x() + bars[0].get_width()/2, accuracy_zero, accuracy_zero, ha='center', va='bottom')\n",
    "    plt.text(bars[1].get_x() + bars[1].get_width()/2, accuracy_one, accuracy_one, ha='center', va='bottom')\n",
    "\n",
    "    plt.savefig(name + '.png')\n",
    "\n",
    "    plt.show()\n",
    "    return"
   ]
  },
  {
   "cell_type": "code",
   "execution_count": 26,
   "metadata": {},
   "outputs": [
    {
     "data": {
      "image/png": "[encoded data removed]",
      "text/plain": [
       "<Figure size 640x480 with 1 Axes>"
      ]
     },
     "metadata": {},
     "output_type": "display_data"
    }
   ],
   "source": [
    "plotting(rf_accuracy_zero, rf_accuracy_one, 'Random Forest Method')"
   ]
  },
  {
   "cell_type": "code",
   "execution_count": 27,
   "metadata": {},
   "outputs": [
    {
     "data": {
      "image/png": "[encoded data removed]",
      "text/plain": [
       "<Figure size 640x480 with 1 Axes>"
      ]
     },
     "metadata": {},
     "output_type": "display_data"
    }
   ],
   "source": [
    "plotting(gb_accuracy_zero, gb_accuracy_one, 'Gradient Boosting Method')"
   ]
  },
  {
   "cell_type": "code",
   "execution_count": 28,
   "metadata": {},
   "outputs": [
    {
     "data": {
      "image/png": "[encoded data removed]",
      "text/plain": [
       "<Figure size 640x480 with 1 Axes>"
      ]
     },
     "metadata": {},
     "output_type": "display_data"
    }
   ],
   "source": [
    "plotting(nn_accuracy_zero, nn_accuracy_one, 'Neural Network Method')"
   ]
  },
  {
   "cell_type": "code",
   "execution_count": null,
   "metadata": {},
   "outputs": [],
   "source": []
  }
 ],
 "metadata": {
  "kernelspec": {
   "display_name": "base",
   "language": "python",
   "name": "python3"
  },
  "language_info": {
   "codemirror_mode": {
    "name": "ipython",
    "version": 3
   },
   "file_extension": ".py",
   "mimetype": "text/x-python",
   "name": "python",
   "nbconvert_exporter": "python",
   "pygments_lexer": "ipython3",
   "version": "3.11.8"
  }
 },
 "nbformat": 4,
 "nbformat_minor": 2
}
