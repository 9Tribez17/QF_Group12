{
 "cells": [
  {
   "cell_type": "code",
   "execution_count": 67,
   "id": "0b6d1f90-e875-4d4a-a5bf-56a2abbe88be",
   "metadata": {},
   "outputs": [],
   "source": [
    "import pandas as pd\n",
    "import numpy as np\n",
    "from sklearn.ensemble import RandomForestClassifier\n",
    "from sklearn.model_selection import train_test_split\n",
    "from sklearn.preprocessing import PolynomialFeatures\n",
    "from sklearn.cluster import KMeans\n",
    "from sklearn.model_selection import cross_val_score\n",
    "from sklearn.linear_model import LogisticRegression\n",
    "from sklearn.metrics import roc_auc_score\n",
    "from sklearn.impute import SimpleImputer\n",
    "import os\n",
    "from sklearn.preprocessing import OneHotEncoder\n",
    "from sklearn.preprocessing import LabelEncoder"
   ]
  },
  {
   "cell_type": "code",
   "execution_count": 26,
   "id": "9de06f82-2f51-46f2-bd04-bdd7ad36dd1a",
   "metadata": {},
   "outputs": [],
   "source": [
    "file_path = r\"E:\\5214\\kaggle\\data.csv\"\n",
    "churn_data = pd.read_csv(file_path)"
   ]
  },
  {
   "cell_type": "code",
   "execution_count": 62,
   "id": "2cf7887a-0108-4160-a908-13d5ef5d03de",
   "metadata": {},
   "outputs": [],
   "source": [
    "# new feature: account activity index(assume weights are all 1)\n",
    "weight_balance = 1\n",
    "weight_num_products = 1\n",
    "weight_credit_score = 1\n",
    "churn_data['Account_Activity_Index'] = (weight_balance * churn_data['Balance'] +\n",
    "                                        weight_num_products * churn_data['NumOfProducts'] +\n",
    "                                        weight_credit_score * churn_data['CreditScore'])"
   ]
  },
  {
   "cell_type": "code",
   "execution_count": 63,
   "id": "7efb2a20-85fd-42e0-aa91-8e02eeed35ee",
   "metadata": {},
   "outputs": [],
   "source": [
    "# mean feature\n",
    "churn_data['Mean_CreditScore_Balance'] = (churn_data['CreditScore'] + churn_data['Balance']) / 2\n",
    "churn_data['Mean_CreditScore_EstimatedSalary'] = (churn_data['CreditScore'] + churn_data['EstimatedSalary']) / 2\n",
    "churn_data['Mean_CreditScore_Age'] = (churn_data['CreditScore'] + churn_data['Age']) / 2\n",
    "churn_data['Mean_CreditScore_Tenure'] = (churn_data['CreditScore'] + churn_data['Tenure']) / 2\n",
    "churn_data['Mean_CreditScore_NumOfProducts'] = (churn_data['CreditScore'] + churn_data['NumOfProducts']) / 2\n",
    "churn_data['Mean_EstimatedSalary_Balance'] = (churn_data['EstimatedSalary'] + churn_data['Balance']) / 2\n",
    "churn_data['Mean_Age_Balance'] = (churn_data['Age'] + churn_data['Balance']) / 2\n",
    "churn_data['Mean_Tenure_Balance'] = (churn_data['Tenure'] + churn_data['Balance']) / 2\n",
    "churn_data['Mean_NumOfProducts_Balance'] = (churn_data['NumOfProducts'] + churn_data['Balance']) / 2\n",
    "churn_data['Mean_EstimatedSalary_Age'] = (churn_data['EstimatedSalary'] + churn_data['Age']) / 2\n",
    "churn_data['Mean_EstimatedSalary_Tenure'] = (churn_data['EstimatedSalary'] + churn_data['Tenure']) / 2\n",
    "churn_data['Mean_EstimatedSalary_NumOfProducts'] = (churn_data['EstimatedSalary'] + churn_data['NumOfProducts']) / 2\n",
    "churn_data['Mean_Age_Tenure'] = (churn_data['Age'] + churn_data['Tenure']) / 2\n",
    "churn_data['Mean_Age_NumOfProducts'] = (churn_data['Age'] + churn_data['NumOfProducts']) / 2\n",
    "churn_data['Mean_Tenure_NumOfProducts'] = (churn_data['Tenure'] + churn_data['NumOfProducts']) / 2"
   ]
  },
  {
   "cell_type": "code",
   "execution_count": 64,
   "id": "ff04c28d-30b4-4afa-8bf7-bd812eff5595",
   "metadata": {},
   "outputs": [],
   "source": [
    "# multiple feature\n",
    "churn_data['Age_CreditScore_Interact'] = churn_data['Age'] * churn_data['CreditScore']\n",
    "churn_data['Tenure_CreditScore_Interact'] = churn_data['Tenure'] * churn_data['CreditScore']\n",
    "churn_data['Balance_CreditScore_Interact'] = churn_data['Balance'] * churn_data['CreditScore']\n",
    "churn_data['EstimatedSalary_CreditScore_Interact'] = churn_data['EstimatedSalary'] * churn_data['CreditScore']\n",
    "churn_data['NumOfProducts_CreditScore_Interact'] = churn_data['NumOfProducts'] * churn_data['CreditScore']\n",
    "\n",
    "churn_data['EstimatedSalary_Age_Interact'] = churn_data['EstimatedSalary'] * churn_data['Age']\n",
    "churn_data['EstimatedSalary_Balance_Interact'] = churn_data['EstimatedSalary'] * churn_data['Balance']\n",
    "churn_data['EstimatedSalary_NumOfProducts_Interact'] = churn_data['EstimatedSalary'] * churn_data['NumOfProducts']\n",
    "churn_data['EstimatedSalary_Tenure_Interact'] = churn_data['EstimatedSalary'] * churn_data['Tenure']\n",
    "\n",
    "churn_data['Age_Tenure_Interact'] = churn_data['Age'] * churn_data['Tenure']\n",
    "churn_data['Age_Balance_Interact'] = churn_data['Age'] * churn_data['Balance']\n",
    "churn_data['Age_NumOfProducts_Interact'] = churn_data['Age'] * churn_data['NumOfProducts']\n",
    "\n",
    "churn_data['Balance_Tenure_Interact'] = churn_data['Balance'] * churn_data['Tenure']\n",
    "churn_data['NumOfProducts_Tenure_Interact'] = churn_data['NumOfProducts'] * churn_data['Tenure']\n",
    "\n",
    "churn_data['Balance_NumOfProducts_Interact'] = churn_data['Balance'] * churn_data['NumOfProducts']\n"
   ]
  },
  {
   "cell_type": "code",
   "execution_count": 68,
   "id": "89b46661-a120-4103-903c-5e3ad143ac34",
   "metadata": {},
   "outputs": [],
   "source": [
    "# minus feature\n",
    "churn_data['Age_CreditScore_difference'] = churn_data['Age'] - churn_data['CreditScore']\n",
    "churn_data['Tenure_CreditScore_difference'] = churn_data['Tenure'] - churn_data['CreditScore']\n",
    "churn_data['Balance_CreditScore_difference'] = churn_data['Balance'] - churn_data['CreditScore']\n",
    "churn_data['EstimatedSalary_CreditScore_difference'] = churn_data['EstimatedSalary'] - churn_data['CreditScore']\n",
    "churn_data['NumOfProducts_CreditScore_difference'] = churn_data['NumOfProducts'] - churn_data['CreditScore']\n",
    "\n",
    "churn_data['Tenure_Age_difference'] = churn_data['Tenure'] - churn_data['Age']\n",
    "churn_data['Balance_Age_difference'] = churn_data['Balance'] - churn_data['Age']\n",
    "churn_data['EstimatedSalary_Age_difference'] = churn_data['EstimatedSalary'] - churn_data['Age']\n",
    "churn_data['NumOfProducts_Age_difference'] = churn_data['NumOfProducts'] - churn_data['Age']\n",
    "churn_data['CreditScore_Age_difference'] = churn_data['CreditScore'] - churn_data['Age']\n",
    "\n",
    "churn_data['Age_Tenure_difference'] = churn_data['Age'] - churn_data['Tenure']\n",
    "churn_data['Balance_Tenure_difference'] = churn_data['Balance'] - churn_data['Tenure']\n",
    "churn_data['EstimatedSalary_Tenure_difference'] = churn_data['EstimatedSalary'] - churn_data['Tenure']\n",
    "churn_data['NumOfProducts_Tenure_difference'] = churn_data['NumOfProducts'] - churn_data['Tenure']\n",
    "churn_data['CreditScore_Tenure_difference'] = churn_data['CreditScore'] - churn_data['Tenure']\n",
    "\n",
    "churn_data['Age_Balance_difference'] = churn_data['Age'] - churn_data['Balance']\n",
    "churn_data['Tenure_Balance_difference'] = churn_data['Tenure'] - churn_data['Balance']\n",
    "churn_data['EstimatedSalary_Balance_difference'] = churn_data['EstimatedSalary'] - churn_data['Balance']\n",
    "churn_data['NumOfProducts_Balance_difference'] = churn_data['NumOfProducts'] - churn_data['Balance']\n",
    "churn_data['CreditScore_Balance_difference'] = churn_data['CreditScore'] - churn_data['Balance']\n",
    "\n",
    "churn_data['Age_EstimatedSalary_difference'] = churn_data['Age'] - churn_data['EstimatedSalary']\n",
    "churn_data['Tenure_EstimatedSalary_difference'] = churn_data['Tenure'] - churn_data['EstimatedSalary']\n",
    "churn_data['Balance_EstimatedSalary_difference'] = churn_data['Balance'] - churn_data['EstimatedSalary']\n",
    "churn_data['NumOfProducts_EstimatedSalary_difference'] = churn_data['NumOfProducts'] - churn_data['EstimatedSalary']\n",
    "churn_data['CreditScore_EstimatedSalary_difference'] = churn_data['CreditScore'] - churn_data['EstimatedSalary']\n",
    "\n",
    "churn_data['Age_NumOfProducts_difference'] = churn_data['Age'] - churn_data['NumOfProducts']\n",
    "churn_data['Tenure_NumOfProducts_difference'] = churn_data['Tenure'] - churn_data['NumOfProducts']\n",
    "churn_data['Balance_NumOfProducts_difference'] = churn_data['Balance'] - churn_data['NumOfProducts']\n",
    "churn_data['EstimatedSalary_NumOfProducts_difference'] = churn_data['EstimatedSalary'] - churn_data['NumOfProducts']\n",
    "churn_data['CreditScore_NumOfProducts_difference'] = churn_data['CreditScore'] - churn_data['NumOfProducts']\n"
   ]
  },
  {
   "cell_type": "code",
   "execution_count": 69,
   "id": "1020c496-3e2d-4aad-b20d-b89cab0f7caf",
   "metadata": {},
   "outputs": [],
   "source": [
    "# Initialize feature importance dictionary\n",
    "feature_importance_dict = {}\n",
    "label_encoder = LabelEncoder()\n",
    "\n",
    "# Convert non numerical features\n",
    "for column in churn_data.select_dtypes(include=['object']):\n",
    "    churn_data[column] = label_encoder.fit_transform(churn_data[column])"
   ]
  },
  {
   "cell_type": "code",
   "execution_count": 72,
   "id": "faced8ce-c461-4e9d-98ca-67b9b8573c89",
   "metadata": {},
   "outputs": [
    {
     "name": "stdout",
     "output_type": "stream",
     "text": [
      "Feature: CustomerId, Importance: [1.]\n",
      "Feature: Surname, Importance: [1.]\n",
      "Feature: CreditScore, Importance: [1.]\n",
      "Feature: Age, Importance: [1.]\n",
      "Feature: Tenure, Importance: [1.]\n",
      "Feature: Balance, Importance: [1.]\n",
      "Feature: NumOfProducts, Importance: [1.]\n",
      "Feature: HasCrCard, Importance: [1.]\n",
      "Feature: IsActiveMember, Importance: [1.]\n",
      "Feature: EstimatedSalary, Importance: [1.]\n",
      "Feature: Exited, Importance: [1.]\n",
      "Feature: original, Importance: [1.]\n",
      "Feature: MaleGender_OHE, Importance: [1.]\n",
      "Feature: FranceGeography_OHE, Importance: [1.]\n",
      "Feature: SpainGeography_OHE, Importance: [1.]\n",
      "Feature: Mean_CreditScore_NumOfProducts, Importance: [1.]\n",
      "Feature: Mean_EstimatedSalary_Balance, Importance: [1.]\n",
      "Feature: Mean_Age_Balance, Importance: [1.]\n",
      "Feature: Mean_Tenure_Balance, Importance: [1.]\n",
      "Feature: Mean_NumOfProducts_Balance, Importance: [1.]\n",
      "Feature: Mean_EstimatedSalary_Age, Importance: [1.]\n",
      "Feature: Mean_EstimatedSalary_Tenure, Importance: [1.]\n",
      "Feature: Mean_EstimatedSalary_NumOfProducts, Importance: [1.]\n",
      "Feature: Mean_Age_Tenure, Importance: [1.]\n",
      "Feature: Mean_Age_NumOfProducts, Importance: [1.]\n",
      "Feature: Mean_Tenure_NumOfProducts, Importance: [1.]\n",
      "Feature: Age_CreditScore_Interact, Importance: [1.]\n",
      "Feature: Tenure_CreditScore_Interact, Importance: [1.]\n",
      "Feature: Balance_CreditScore_Interact, Importance: [1.]\n",
      "Feature: EstimatedSalary_CreditScore_Interact, Importance: [1.]\n",
      "Feature: NumOfProducts_CreditScore_Interact, Importance: [1.]\n",
      "Feature: EstimatedSalary_Age_Interact, Importance: [1.]\n",
      "Feature: EstimatedSalary_Balance_Interact, Importance: [1.]\n",
      "Feature: EstimatedSalary_NumOfProducts_Interact, Importance: [1.]\n",
      "Feature: EstimatedSalary_Tenure_Interact, Importance: [1.]\n",
      "Feature: Age_Tenure_Interact, Importance: [1.]\n",
      "Feature: Age_Balance_Interact, Importance: [1.]\n",
      "Feature: Age_NumOfProducts_Interact, Importance: [1.]\n",
      "Feature: Balance_Tenure_Interact, Importance: [1.]\n",
      "Feature: NumOfProducts_Tenure_Interact, Importance: [1.]\n",
      "Feature: Balance_NumOfProducts_Interact, Importance: [1.]\n",
      "Feature: Account_Activity_Index, Importance: [1.]\n",
      "Feature: Mean_CreditScore_Balance, Importance: [1.]\n",
      "Feature: Mean_CreditScore_EstimatedSalary, Importance: [1.]\n",
      "Feature: Mean_CreditScore_Age, Importance: [1.]\n",
      "Feature: Mean_CreditScore_Tenure, Importance: [1.]\n",
      "Feature: Age_CreditScore_difference, Importance: [1.]\n",
      "Feature: Tenure_CreditScore_difference, Importance: [1.]\n",
      "Feature: Balance_CreditScore_difference, Importance: [1.]\n",
      "Feature: EstimatedSalary_CreditScore_difference, Importance: [1.]\n",
      "Feature: NumOfProducts_CreditScore_difference, Importance: [1.]\n",
      "Feature: Tenure_Age_difference, Importance: [1.]\n",
      "Feature: Balance_Age_difference, Importance: [1.]\n",
      "Feature: EstimatedSalary_Age_difference, Importance: [1.]\n",
      "Feature: NumOfProducts_Age_difference, Importance: [1.]\n",
      "Feature: CreditScore_Age_difference, Importance: [1.]\n",
      "Feature: Age_Tenure_difference, Importance: [1.]\n",
      "Feature: Balance_Tenure_difference, Importance: [1.]\n",
      "Feature: EstimatedSalary_Tenure_difference, Importance: [1.]\n",
      "Feature: NumOfProducts_Tenure_difference, Importance: [1.]\n",
      "Feature: CreditScore_Tenure_difference, Importance: [1.]\n",
      "Feature: Age_Balance_difference, Importance: [1.]\n",
      "Feature: Tenure_Balance_difference, Importance: [1.]\n",
      "Feature: EstimatedSalary_Balance_difference, Importance: [1.]\n",
      "Feature: NumOfProducts_Balance_difference, Importance: [1.]\n",
      "Feature: CreditScore_Balance_difference, Importance: [1.]\n",
      "Feature: Age_EstimatedSalary_difference, Importance: [1.]\n",
      "Feature: Tenure_EstimatedSalary_difference, Importance: [1.]\n",
      "Feature: Balance_EstimatedSalary_difference, Importance: [1.]\n",
      "Feature: NumOfProducts_EstimatedSalary_difference, Importance: [1.]\n",
      "Feature: CreditScore_EstimatedSalary_difference, Importance: [1.]\n",
      "Feature: Age_NumOfProducts_difference, Importance: [1.]\n",
      "Feature: Tenure_NumOfProducts_difference, Importance: [1.]\n",
      "Feature: Balance_NumOfProducts_difference, Importance: [1.]\n",
      "Feature: EstimatedSalary_NumOfProducts_difference, Importance: [1.]\n",
      "Feature: CreditScore_NumOfProducts_difference, Importance: [1.]\n",
      "Feature: EstimatedSalary_CustomerId_difference, Importance: [0.]\n"
     ]
    }
   ],
   "source": [
    "# Initialize Random Forest Model\n",
    "rf = RandomForestClassifier(n_estimators=100, random_state=42)\n",
    "\n",
    "for feature_name in churn_data.columns:\n",
    "    X = churn_data[[feature_name]]\n",
    "    y = churn_data['Exited']\n",
    "\n",
    "    rf.fit(X, y)\n",
    "    \n",
    "    feature_importance = rf.feature_importances_\n",
    "    feature_importance_dict[feature_name] = feature_importance\n",
    "\n",
    "for feature, importance in feature_importance_dict.items():\n",
    "    print(f\"Feature: {feature}, Importance: {importance}\")"
   ]
  },
  {
   "cell_type": "code",
   "execution_count": 73,
   "id": "742267a4-82bf-414a-aad8-adf06ce77b11",
   "metadata": {},
   "outputs": [],
   "source": [
    "# Sort in descending order\n",
    "sorted_feature_importance_dict = sorted(feature_importance_dict.items(), key=lambda x: x[1])"
   ]
  },
  {
   "cell_type": "code",
   "execution_count": 74,
   "id": "4b3dd62a-9314-43fd-964a-10a2049a62b3",
   "metadata": {},
   "outputs": [
    {
     "name": "stdout",
     "output_type": "stream",
     "text": [
      "Top 3 least important features (excluding specified features):\n",
      "Feature: EstimatedSalary_CustomerId_difference, Importance: [0.]\n",
      "Feature: Geography, Importance: [1.]\n",
      "Feature: Gender, Importance: [1.]\n"
     ]
    }
   ],
   "source": [
    "excluded_features = ['CustomerId', 'Surname', 'CreditScore', 'Age', 'Tenure', 'Balance',\n",
    "                     'NumOfProducts', 'HasCrCard', 'IsActiveMember', 'EstimatedSalary', \n",
    "                     'Exited', 'original', 'MaleGender_OHE', 'FranceGeography_OHE', \n",
    "                     'SpainGeography_OHE']\n",
    "\n",
    "filtered_feature_importance = {feature: importance for feature, importance in feature_importance_dict.items() \n",
    "                               if feature not in excluded_features}\n",
    "\n",
    "# Top 3 least important features (excluding specified features)\n",
    "print(\"Top 3 least important features (excluding specified features):\")\n",
    "for feature, importance in sorted(filtered_feature_importance.items(), key=lambda x: x[1])[:3]:\n",
    "    print(f\"Feature: {feature}, Importance: {importance}\")\n"
   ]
  },
  {
   "cell_type": "markdown",
   "id": "ee3457cc-a90e-40a6-aa3f-49c1bb2f5ba5",
   "metadata": {
    "jp-MarkdownHeadingCollapsed": true
   },
   "source": [
    "#delete what in final_drop_list\n",
    "#code:churn_data.drop(columns=final_drop_list, inplace=True)\n",
    "\n",
    "Because the model performed not well, so the step of deleting unimportant new eigenvalues is omitted, we need to try other feature selecting method"
   ]
  },
  {
   "cell_type": "code",
   "execution_count": 75,
   "id": "32a998e5-099c-4936-8111-e66df007568c",
   "metadata": {},
   "outputs": [
    {
     "name": "stdout",
     "output_type": "stream",
     "text": [
      "Top 3 most important features:\n",
      "Feature: NumOfProducts_CustomerId_difference, Importance: [1.]\n",
      "Feature: CreditScore_CustomerId_difference, Importance: [1.]\n",
      "Feature: Surname_CustomerId_difference, Importance: [1.]\n"
     ]
    }
   ],
   "source": [
    "# Show the top 3 most important features\n",
    "print(\"Top 3 most important features:\")\n",
    "for feature, importance in sorted_feature_importance_dict[-3:]:\n",
    "    print(f\"Feature: {feature}, Importance: {importance}\")"
   ]
  },
  {
   "cell_type": "code",
   "execution_count": 71,
   "id": "dad33f41-542f-4509-935b-a9f1d9681b82",
   "metadata": {},
   "outputs": [],
   "source": [
    "# Export a new data table\n",
    "new_data_path = \"E:/5214/kaggle/addfeature.csv\"\n",
    "churn_data.to_csv(new_data_path, index=False)"
   ]
  }
 ],
 "metadata": {
  "kernelspec": {
   "display_name": "Python 3 (ipykernel)",
   "language": "python",
   "name": "python3"
  },
  "language_info": {
   "codemirror_mode": {
    "name": "ipython",
    "version": 3
   },
   "file_extension": ".py",
   "mimetype": "text/x-python",
   "name": "python",
   "nbconvert_exporter": "python",
   "pygments_lexer": "ipython3",
   "version": "3.9.2"
  }
 },
 "nbformat": 4,
 "nbformat_minor": 5
}
