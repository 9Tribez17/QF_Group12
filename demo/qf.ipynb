{
 "cells": [
  {
   "cell_type": "code",
   "execution_count": 60,
   "metadata": {},
   "outputs": [],
   "source": [
    "import pandas as pd\n",
    "import numpy as np\n",
    "from gensim.models import Word2Vec\n",
    "from sklearn.decomposition import PCA\n",
    "from sklearn.preprocessing import StandardScaler\n",
    "import torch\n",
    "import torch.nn as nn\n",
    "import torch.optim as optim"
   ]
  },
  {
   "cell_type": "code",
   "execution_count": 23,
   "metadata": {},
   "outputs": [
    {
     "name": "stdout",
     "output_type": "stream",
     "text": [
      "id                 0\n",
      "CustomerId         0\n",
      "Surname            0\n",
      "CreditScore        0\n",
      "Geography          0\n",
      "Gender             0\n",
      "Age                0\n",
      "Tenure             0\n",
      "Balance            0\n",
      "NumOfProducts      0\n",
      "HasCrCard          0\n",
      "IsActiveMember     0\n",
      "EstimatedSalary    0\n",
      "dtype: int64\n"
     ]
    }
   ],
   "source": [
    "churn_data = pd.read_csv('test.csv')\n",
    "# Check whether there is nan value\n",
    "\n",
    "nan_counts = churn_data.isna().sum()\n",
    "print(nan_counts)\n",
    "\n",
    "# nan_counts = data_ori.isna().sum()\n",
    "# print(nan_counts)"
   ]
  },
  {
   "cell_type": "code",
   "execution_count": 24,
   "metadata": {},
   "outputs": [],
   "source": [
    "# Ensure Surname column is string type for processing\n",
    "churn_data['Surname'] = churn_data['Surname'].astype(str)\n",
    "\n",
    "# Prepare unique surnames for Word2Vec training\n",
    "sentences = churn_data['Surname'].unique().tolist()\n",
    "sentences = [s.split() for s in sentences]\n",
    "\n",
    "# Train Word2Vec model\n",
    "model = Word2Vec(sentences, vector_size=50, window=3, min_count=1)\n",
    "\n",
    "# Initialize a list to hold the vectors. This handles missing surnames in the Word2Vec model.\n",
    "vectors = []\n",
    "for surname in churn_data['Surname']:\n",
    "    if surname in model.wv:\n",
    "        vectors.append(model.wv[surname])\n",
    "    else:\n",
    "        # If the surname isn't in the model, use a zero vector instead.\n",
    "        vectors.append([0]*50)\n",
    "\n",
    "# Convert the vectors to a DataFrame\n",
    "surname_vectors_df = pd.DataFrame(vectors)\n",
    "\n",
    "# Apply PCA\n",
    "pca = PCA(n_components=10)\n",
    "surname_pca = pca.fit_transform(surname_vectors_df)"
   ]
  },
  {
   "cell_type": "code",
   "execution_count": 25,
   "metadata": {},
   "outputs": [
    {
     "data": {
      "text/plain": [
       "array([[-0.00362187,  0.01969531,  0.00653744, ...,  0.01932003,\n",
       "        -0.03154706, -0.01255974],\n",
       "       [-0.00970108, -0.0122481 , -0.01218967, ...,  0.01234379,\n",
       "        -0.00313088, -0.00414226],\n",
       "       [-0.00038546, -0.01553748, -0.01086019, ...,  0.01469728,\n",
       "        -0.01134762,  0.03335265],\n",
       "       ...,\n",
       "       [-0.00709857, -0.01444706,  0.04314492, ...,  0.01822482,\n",
       "         0.0150478 , -0.00968025],\n",
       "       [ 0.00105936, -0.00692069, -0.00215593, ..., -0.00199064,\n",
       "        -0.01853939,  0.0274087 ],\n",
       "       [ 0.02996059, -0.00678158, -0.02456724, ...,  0.00734631,\n",
       "         0.03535441, -0.00112485]])"
      ]
     },
     "execution_count": 25,
     "metadata": {},
     "output_type": "execute_result"
    }
   ],
   "source": [
    "surname_pca"
   ]
  },
  {
   "cell_type": "code",
   "execution_count": 26,
   "metadata": {},
   "outputs": [],
   "source": [
    "churn_data_final = pd.DataFrame()\n",
    "churn_data_final['Mean_Age_NumOfProducts'] = (churn_data['Age'] + churn_data['NumOfProducts']) / 2\n",
    "churn_data_final['NumOfProducts_Age_difference'] = churn_data['NumOfProducts'] - churn_data['Age']\n",
    "churn_data_final['Balance_NumOfProducts_difference'] = churn_data['Balance'] - churn_data['NumOfProducts']\n",
    "churn_data_final['Mean_NumOfProducts_Balance'] = (churn_data['NumOfProducts'] + churn_data['Balance']) / 2\n",
    "churn_data_final['NumOfProducts'] = churn_data['NumOfProducts']\n",
    "churn_data_final['CreditScore'] = churn_data['CreditScore']\n",
    "churn_data_final['Balance'] = churn_data['Balance']\n",
    "churn_data_final['EstimatedSalary'] = churn_data['EstimatedSalary']\n",
    "churn_data_final['Age'] = churn_data['Age']\n",
    "churn_data_final['pca_0'] = surname_pca[:,0]"
   ]
  },
  {
   "cell_type": "code",
   "execution_count": 27,
   "metadata": {},
   "outputs": [],
   "source": [
    "test = churn_data_final.values"
   ]
  },
  {
   "cell_type": "code",
   "execution_count": 28,
   "metadata": {},
   "outputs": [],
   "source": [
    "scaler = StandardScaler()\n",
    "test = scaler.fit_transform(test)"
   ]
  },
  {
   "cell_type": "code",
   "execution_count": 29,
   "metadata": {},
   "outputs": [
    {
     "data": {
      "text/plain": [
       "array([[-1.66388764,  1.74225211, -0.88127788, ...,  0.96787351,\n",
       "        -1.70650447, -0.22542774],\n",
       "       [ 0.83043716, -0.94349269, -0.88126195, ..., -0.79093861,\n",
       "         0.88899019, -0.60380156],\n",
       "       [-0.41672524,  0.51128574, -0.88127788, ...,  0.52841334,\n",
       "        -0.46518094, -0.02399133],\n",
       "       ...,\n",
       "       [-0.75686044,  0.84700384, -0.88127788, ..., -1.90998095,\n",
       "        -0.80372372, -0.44181964],\n",
       "       [-0.75686044,  0.62319178, -0.88126195, ...,  0.92490799,\n",
       "        -0.69087612,  0.06593516],\n",
       "       [-0.18996844,  0.06366161,  0.51785544, ..., -1.75238983,\n",
       "        -0.12663815,  1.86476727]])"
      ]
     },
     "execution_count": 29,
     "metadata": {},
     "output_type": "execute_result"
    }
   ],
   "source": [
    "test"
   ]
  },
  {
   "cell_type": "code",
   "execution_count": 53,
   "metadata": {},
   "outputs": [],
   "source": [
    "class SimpleBinaryClassifier(nn.Module):\n",
    "    def __init__(self, input_dim):\n",
    "        super(SimpleBinaryClassifier, self).__init__()\n",
    "        self.fc1 = nn.Linear(input_dim, 2*input_dim)  # first hidden layer\n",
    "        self.fc2 = nn.Linear(2*input_dim, input_dim)\n",
    "        self.fc3 = nn.Linear(input_dim, 1)          # output layer\n",
    "\n",
    "    def forward(self, x):\n",
    "        x = (self.fc1(x))\n",
    "        x = (self.fc2(x))\n",
    "        x = torch.sigmoid(self.fc3(x))\n",
    "        return x\n",
    "\n",
    "def neural_network_method(X_train, X_test, y_train, y_test):\n",
    "    X_train = torch.tensor(np.array(X_train), dtype=torch.float32)\n",
    "    y_train = torch.tensor(np.array(y_train), dtype=torch.float32).view(-1, 1)\n",
    "    X_test = torch.tensor(np.array(X_test), dtype=torch.float32)\n",
    "    y_test = torch.tensor(np.array(y_test), dtype=torch.float32).view(-1, 1)\n",
    "    \n",
    "    model = SimpleBinaryClassifier(X_train.shape[1])\n",
    "    \n",
    "    # loss function\n",
    "    criterion = nn.BCELoss()\n",
    "\n",
    "    # optimizer\n",
    "    optimizer = optim.Adam(model.parameters(), lr=0.01)\n",
    "\n",
    "    # fit\n",
    "    model.train()\n",
    "    for epoch in range(100): \n",
    "        optimizer.zero_grad()\n",
    "        outputs = model(X_train)\n",
    "        loss = criterion(outputs, y_train)\n",
    "        loss.backward()\n",
    "        optimizer.step()\n",
    "    \n",
    "    # evaluate\n",
    "    model.eval()\n",
    "    with torch.no_grad():\n",
    "        outputs = model(X_test)\n",
    "        predictions = (outputs > 0.5).float()\n",
    "        \n",
    "        accuracy = (predictions.eq(y_test).sum().item()) / y_test.size(0)\n",
    "        # Calculate the accuracy when Exited = 0\n",
    "        mask_zero = (y_test == 0)\n",
    "        correct_zero = (predictions[mask_zero] == y_test[mask_zero]).float().sum().item()\n",
    "        accuracy_zero = correct_zero / mask_zero.sum().item()\n",
    "        print('Accuracy when Exited = 0: ', accuracy_zero)\n",
    "\n",
    "        # Calculate the accuracy when Exited = 1\n",
    "        mask_one = (y_test == 1)\n",
    "        correct_one = (predictions[mask_one] == y_test[mask_one]).float().sum().item()\n",
    "        accuracy_one = correct_one / mask_one.sum().item()\n",
    "        print('Accuracy when Exited = 1: ', accuracy_one)\n",
    "        \n",
    "        loss = criterion(outputs, y_test)\n",
    "    \n",
    "    print(f\"Test Loss: {loss.item()}, Test Accuracy: {accuracy}\")\n",
    "\n",
    "    predictions = predictions.cpu().numpy()\n",
    "    y_test = y_test.cpu().numpy()\n",
    "\n",
    "    model_result = pd.DataFrame({'test_true': y_test.flatten(), 'test_predict': predictions.flatten()})\n",
    "\n",
    "    torch.save(model.state_dict(), 'neural_network_model.pth')\n",
    "\n",
    "    return model_result, accuracy_zero, accuracy_one"
   ]
  },
  {
   "cell_type": "code",
   "execution_count": 62,
   "metadata": {},
   "outputs": [
    {
     "data": {
      "text/plain": [
       "SimpleBinaryClassifier(\n",
       "  (fc1): Linear(in_features=10, out_features=20, bias=True)\n",
       "  (fc2): Linear(in_features=20, out_features=10, bias=True)\n",
       "  (fc3): Linear(in_features=10, out_features=1, bias=True)\n",
       ")"
      ]
     },
     "execution_count": 62,
     "metadata": {},
     "output_type": "execute_result"
    }
   ],
   "source": [
    "model_nn = torch.load('neural_network_model.pth')\n",
    "model_nn.eval()"
   ]
  },
  {
   "cell_type": "code",
   "execution_count": 74,
   "metadata": {},
   "outputs": [],
   "source": [
    "pred_prob = model_nn(torch.tensor(np.array(test), dtype=torch.float32))\n",
    "pred_prob = pred_prob.detach().numpy().flatten()\n",
    "\n",
    "df = pd.DataFrame({\n",
    "    'id': churn_data['id'].values.flatten(),\n",
    "    'CustomerId': churn_data['CustomerId'].values.flatten(),\n",
    "    'PredProb': pred_prob\n",
    "})\n",
    "df['PredStatus'] = np.where(df['PredProb'] < 0.5, 'stay', 'exit')"
   ]
  },
  {
   "cell_type": "code",
   "execution_count": 75,
   "metadata": {},
   "outputs": [
    {
     "data": {
      "text/html": [
       "<div>\n",
       "<style scoped>\n",
       "    .dataframe tbody tr th:only-of-type {\n",
       "        vertical-align: middle;\n",
       "    }\n",
       "\n",
       "    .dataframe tbody tr th {\n",
       "        vertical-align: top;\n",
       "    }\n",
       "\n",
       "    .dataframe thead th {\n",
       "        text-align: right;\n",
       "    }\n",
       "</style>\n",
       "<table border=\"1\" class=\"dataframe\">\n",
       "  <thead>\n",
       "    <tr style=\"text-align: right;\">\n",
       "      <th></th>\n",
       "      <th>id</th>\n",
       "      <th>CustomerId</th>\n",
       "      <th>PredProb</th>\n",
       "      <th>PredStatus</th>\n",
       "    </tr>\n",
       "  </thead>\n",
       "  <tbody>\n",
       "    <tr>\n",
       "      <th>0</th>\n",
       "      <td>165034</td>\n",
       "      <td>15773898</td>\n",
       "      <td>0.149467</td>\n",
       "      <td>stay</td>\n",
       "    </tr>\n",
       "    <tr>\n",
       "      <th>1</th>\n",
       "      <td>165035</td>\n",
       "      <td>15782418</td>\n",
       "      <td>0.160420</td>\n",
       "      <td>stay</td>\n",
       "    </tr>\n",
       "    <tr>\n",
       "      <th>2</th>\n",
       "      <td>165036</td>\n",
       "      <td>15807120</td>\n",
       "      <td>0.137349</td>\n",
       "      <td>stay</td>\n",
       "    </tr>\n",
       "    <tr>\n",
       "      <th>3</th>\n",
       "      <td>165037</td>\n",
       "      <td>15808905</td>\n",
       "      <td>0.176211</td>\n",
       "      <td>stay</td>\n",
       "    </tr>\n",
       "    <tr>\n",
       "      <th>4</th>\n",
       "      <td>165038</td>\n",
       "      <td>15607314</td>\n",
       "      <td>0.227854</td>\n",
       "      <td>stay</td>\n",
       "    </tr>\n",
       "    <tr>\n",
       "      <th>...</th>\n",
       "      <td>...</td>\n",
       "      <td>...</td>\n",
       "      <td>...</td>\n",
       "      <td>...</td>\n",
       "    </tr>\n",
       "    <tr>\n",
       "      <th>110018</th>\n",
       "      <td>275052</td>\n",
       "      <td>15662091</td>\n",
       "      <td>0.258538</td>\n",
       "      <td>stay</td>\n",
       "    </tr>\n",
       "    <tr>\n",
       "      <th>110019</th>\n",
       "      <td>275053</td>\n",
       "      <td>15774133</td>\n",
       "      <td>0.264919</td>\n",
       "      <td>stay</td>\n",
       "    </tr>\n",
       "    <tr>\n",
       "      <th>110020</th>\n",
       "      <td>275054</td>\n",
       "      <td>15728456</td>\n",
       "      <td>0.115849</td>\n",
       "      <td>stay</td>\n",
       "    </tr>\n",
       "    <tr>\n",
       "      <th>110021</th>\n",
       "      <td>275055</td>\n",
       "      <td>15687541</td>\n",
       "      <td>0.178209</td>\n",
       "      <td>stay</td>\n",
       "    </tr>\n",
       "    <tr>\n",
       "      <th>110022</th>\n",
       "      <td>275056</td>\n",
       "      <td>15663942</td>\n",
       "      <td>0.214271</td>\n",
       "      <td>stay</td>\n",
       "    </tr>\n",
       "  </tbody>\n",
       "</table>\n",
       "<p>110023 rows × 4 columns</p>\n",
       "</div>"
      ],
      "text/plain": [
       "            id  CustomerId  PredProb PredStatus\n",
       "0       165034    15773898  0.149467       stay\n",
       "1       165035    15782418  0.160420       stay\n",
       "2       165036    15807120  0.137349       stay\n",
       "3       165037    15808905  0.176211       stay\n",
       "4       165038    15607314  0.227854       stay\n",
       "...        ...         ...       ...        ...\n",
       "110018  275052    15662091  0.258538       stay\n",
       "110019  275053    15774133  0.264919       stay\n",
       "110020  275054    15728456  0.115849       stay\n",
       "110021  275055    15687541  0.178209       stay\n",
       "110022  275056    15663942  0.214271       stay\n",
       "\n",
       "[110023 rows x 4 columns]"
      ]
     },
     "execution_count": 75,
     "metadata": {},
     "output_type": "execute_result"
    }
   ],
   "source": [
    "df"
   ]
  }
 ],
 "metadata": {
  "kernelspec": {
   "display_name": "env_01",
   "language": "python",
   "name": "python3"
  },
  "language_info": {
   "codemirror_mode": {
    "name": "ipython",
    "version": 3
   },
   "file_extension": ".py",
   "mimetype": "text/x-python",
   "name": "python",
   "nbconvert_exporter": "python",
   "pygments_lexer": "ipython3",
   "version": "3.11.8"
  }
 },
 "nbformat": 4,
 "nbformat_minor": 2
}
